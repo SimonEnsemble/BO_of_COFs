{
 "cells": [
  {
   "cell_type": "markdown",
   "id": "differential-cuisine",
   "metadata": {},
   "source": [
    "# BO runs"
   ]
  },
  {
   "cell_type": "code",
   "execution_count": 1,
   "id": "imperial-drawing",
   "metadata": {},
   "outputs": [],
   "source": [
    "import torch\n",
    "from botorch.models import FixedNoiseGP, SingleTaskGP\n",
    "from gpytorch.kernels import ScaleKernel\n",
    "from gpytorch.mlls import ExactMarginalLogLikelihood\n",
    "from botorch import fit_gpytorch_model\n",
    "from botorch.acquisition.analytic import ExpectedImprovement\n",
    "import numpy as np\n",
    "import pickle\n",
    "import sys\n",
    "import time"
   ]
  },
  {
   "cell_type": "markdown",
   "id": "smaller-surrey",
   "metadata": {},
   "source": [
    "load data from `prepare_Xy.ipynb`"
   ]
  },
  {
   "cell_type": "code",
   "execution_count": 2,
   "id": "attached-fortune",
   "metadata": {},
   "outputs": [
    {
     "data": {
      "text/plain": [
       "69839"
      ]
     },
     "execution_count": 2,
     "metadata": {},
     "output_type": "execute_result"
    }
   ],
   "source": [
    "X = pickle.load(open('inputs_and_outputs.pkl', 'rb'))['X']\n",
    "y = pickle.load(open('inputs_and_outputs.pkl', 'rb'))['y']\n",
    "nb_data = np.size(y)\n",
    "nb_data"
   ]
  },
  {
   "cell_type": "markdown",
   "id": "sunrise-definition",
   "metadata": {},
   "source": [
    "convert to torch tensors"
   ]
  },
  {
   "cell_type": "code",
   "execution_count": 3,
   "id": "turned-equation",
   "metadata": {},
   "outputs": [],
   "source": [
    "X = torch.from_numpy(X)\n",
    "y = torch.from_numpy(y)"
   ]
  },
  {
   "cell_type": "code",
   "execution_count": 4,
   "id": "jewish-happiness",
   "metadata": {},
   "outputs": [
    {
     "data": {
      "text/plain": [
       "torch.Size([69839, 12])"
      ]
     },
     "execution_count": 4,
     "metadata": {},
     "output_type": "execute_result"
    }
   ],
   "source": [
    "X.size()"
   ]
  },
  {
   "cell_type": "code",
   "execution_count": 5,
   "id": "occupational-danish",
   "metadata": {},
   "outputs": [
    {
     "data": {
      "text/plain": [
       "torch.Size([69839, 1])"
      ]
     },
     "execution_count": 5,
     "metadata": {},
     "output_type": "execute_result"
    }
   ],
   "source": [
    "y.size()"
   ]
  },
  {
   "cell_type": "markdown",
   "id": "middle-fitness",
   "metadata": {},
   "source": [
    "number of COFs for initialization"
   ]
  },
  {
   "cell_type": "code",
   "execution_count": 6,
   "id": "bacterial-trademark",
   "metadata": {},
   "outputs": [],
   "source": [
    "nb_COFs_initialization = 10"
   ]
  },
  {
   "cell_type": "code",
   "execution_count": 7,
   "id": "worthy-technician",
   "metadata": {},
   "outputs": [],
   "source": [
    "def bo_run(nb_iterations):\n",
    "    # select initial COFs for training data randomly\n",
    "    ids_acquired = np.random.choice(np.arange((nb_data)), size=nb_COFs_initialization, replace=False)\n",
    "\n",
    "    # initialize acquired X, y\n",
    "    X_acquired = X[ids_acquired, :]\n",
    "    y_acquired = y[ids_acquired]\n",
    "    # standardize outputs\n",
    "    y_acquired = (y_acquired - torch.mean(y_acquired)) / torch.std(y_acquired)\n",
    "    print(y_acquired.size())\n",
    "    \n",
    "    for i in range(nb_COFs_initialization, nb_iterations):\n",
    "        print(\"iteration:\", i)\n",
    "        # construct and fit GP model\n",
    "        model = SingleTaskGP(X_acquired, y_acquired)\n",
    "        mll = ExactMarginalLogLikelihood(model.likelihood, model)\n",
    "        fit_gpytorch_model(mll)\n",
    "\n",
    "        # compute aquisition function at each COF in the database\n",
    "        acquisition_function = ExpectedImprovement(model, best_f=y_acquired.max().item())\n",
    "        acquisition_values = acquisition_function.forward(X.unsqueeze(1))\n",
    "\n",
    "        # select COF to acquire with maximal aquisition value, which is not in the acquired set already\n",
    "        ids_sorted_by_aquisition = acquisition_values.argsort(descending=True)\n",
    "        for id_max_aquisition_all in ids_sorted_by_aquisition:\n",
    "            if not id_max_aquisition_all.item() in ids_acquired:\n",
    "                id_max_aquisition = id_max_aquisition_all.item()\n",
    "                break\n",
    "\n",
    "        # acquire this COF\n",
    "        ids_acquired = np.concatenate((ids_acquired, np.array([id_max_aquisition])))\n",
    "\n",
    "        # update X, y acquired\n",
    "        X_acquired = torch.cat([X_acquired, X[id_max_aquisition, :].unsqueeze(0)])\n",
    "        y_acquired = y[ids_acquired, :] # start over to normalize y properly\n",
    "        y_acquired = (y_acquired - torch.mean(y_acquired)) / torch.std(y_acquired)\n",
    "        print(\"\")\n",
    "\n",
    "        print(\"\\tacquired COF\", id_max_aquisition, \"with y = \", y[id_max_aquisition])\n",
    "        print(\"\\tbest y acquired:\", y[ids_acquired].max())\n",
    "    return ids_acquired"
   ]
  },
  {
   "cell_type": "code",
   "execution_count": null,
   "id": "light-enzyme",
   "metadata": {},
   "outputs": [
    {
     "name": "stdout",
     "output_type": "stream",
     "text": [
      "torch.Size([10, 1])\n",
      "iteration: 10\n",
      "\n",
      "\tacquired COF 25973 with y =  tensor([202.8485], dtype=torch.float64)\n",
      "\tbest y acquired: tensor(202.8485, dtype=torch.float64)\n",
      "iteration: 11\n",
      "\n",
      "\tacquired COF 19859 with y =  tensor([167.1718], dtype=torch.float64)\n",
      "\tbest y acquired: tensor(202.8485, dtype=torch.float64)\n",
      "iteration: 12\n",
      "\n",
      "\tacquired COF 20704 with y =  tensor([186.0405], dtype=torch.float64)\n",
      "\tbest y acquired: tensor(202.8485, dtype=torch.float64)\n",
      "iteration: 13\n",
      "\n",
      "\tacquired COF 26565 with y =  tensor([207.3958], dtype=torch.float64)\n",
      "\tbest y acquired: tensor(207.3958, dtype=torch.float64)\n",
      "iteration: 14\n",
      "\n",
      "\tacquired COF 26438 with y =  tensor([196.1757], dtype=torch.float64)\n",
      "\tbest y acquired: tensor(207.3958, dtype=torch.float64)\n",
      "iteration: 15\n",
      "\n",
      "\tacquired COF 20686 with y =  tensor([184.8380], dtype=torch.float64)\n",
      "\tbest y acquired: tensor(207.3958, dtype=torch.float64)\n",
      "iteration: 16\n",
      "\n",
      "\tacquired COF 66078 with y =  tensor([190.6755], dtype=torch.float64)\n",
      "\tbest y acquired: tensor(207.3958, dtype=torch.float64)\n",
      "iteration: 17\n",
      "\n",
      "\tacquired COF 18327 with y =  tensor([180.1421], dtype=torch.float64)\n",
      "\tbest y acquired: tensor(207.3958, dtype=torch.float64)\n",
      "iteration: 18\n",
      "\n",
      "\tacquired COF 26553 with y =  tensor([193.3796], dtype=torch.float64)\n",
      "\tbest y acquired: tensor(207.3958, dtype=torch.float64)\n",
      "iteration: 19\n",
      "\n",
      "\tacquired COF 16404 with y =  tensor([171.2998], dtype=torch.float64)\n",
      "\tbest y acquired: tensor(207.3958, dtype=torch.float64)\n",
      "iteration: 20\n",
      "\n",
      "\tacquired COF 29870 with y =  tensor([196.7961], dtype=torch.float64)\n",
      "\tbest y acquired: tensor(207.3958, dtype=torch.float64)\n",
      "iteration: 21\n",
      "\n",
      "\tacquired COF 29861 with y =  tensor([199.7203], dtype=torch.float64)\n",
      "\tbest y acquired: tensor(207.3958, dtype=torch.float64)\n",
      "iteration: 22\n",
      "\n",
      "\tacquired COF 16566 with y =  tensor([198.7518], dtype=torch.float64)\n",
      "\tbest y acquired: tensor(207.3958, dtype=torch.float64)\n",
      "iteration: 23\n",
      "\n",
      "\tacquired COF 30535 with y =  tensor([179.8166], dtype=torch.float64)\n",
      "\tbest y acquired: tensor(207.3958, dtype=torch.float64)\n",
      "iteration: 24\n",
      "\n",
      "\tacquired COF 16532 with y =  tensor([182.4495], dtype=torch.float64)\n",
      "\tbest y acquired: tensor(207.3958, dtype=torch.float64)\n",
      "iteration: 25\n",
      "\n",
      "\tacquired COF 30638 with y =  tensor([150.3752], dtype=torch.float64)\n",
      "\tbest y acquired: tensor(207.3958, dtype=torch.float64)\n",
      "iteration: 26\n",
      "\n",
      "\tacquired COF 25951 with y =  tensor([196.5800], dtype=torch.float64)\n",
      "\tbest y acquired: tensor(207.3958, dtype=torch.float64)\n",
      "iteration: 27\n",
      "\n",
      "\tacquired COF 25981 with y =  tensor([205.4922], dtype=torch.float64)\n",
      "\tbest y acquired: tensor(207.3958, dtype=torch.float64)\n",
      "iteration: 28\n",
      "\n",
      "\tacquired COF 20663 with y =  tensor([192.2748], dtype=torch.float64)\n",
      "\tbest y acquired: tensor(207.3958, dtype=torch.float64)\n",
      "iteration: 29\n",
      "\n",
      "\tacquired COF 33366 with y =  tensor([204.8117], dtype=torch.float64)\n",
      "\tbest y acquired: tensor(207.3958, dtype=torch.float64)\n",
      "iteration: 30\n",
      "\n",
      "\tacquired COF 25964 with y =  tensor([182.0329], dtype=torch.float64)\n",
      "\tbest y acquired: tensor(207.3958, dtype=torch.float64)\n",
      "iteration: 31\n",
      "\n",
      "\tacquired COF 33330 with y =  tensor([195.5827], dtype=torch.float64)\n",
      "\tbest y acquired: tensor(207.3958, dtype=torch.float64)\n",
      "iteration: 32\n",
      "\n",
      "\tacquired COF 33338 with y =  tensor([129.6895], dtype=torch.float64)\n",
      "\tbest y acquired: tensor(207.3958, dtype=torch.float64)\n",
      "iteration: 33\n",
      "\n",
      "\tacquired COF 26507 with y =  tensor([200.4408], dtype=torch.float64)\n",
      "\tbest y acquired: tensor(207.3958, dtype=torch.float64)\n",
      "iteration: 34\n",
      "\n",
      "\tacquired COF 33332 with y =  tensor([205.9635], dtype=torch.float64)\n",
      "\tbest y acquired: tensor(207.3958, dtype=torch.float64)\n",
      "iteration: 35\n",
      "\n",
      "\tacquired COF 6455 with y =  tensor([188.9276], dtype=torch.float64)\n",
      "\tbest y acquired: tensor(207.3958, dtype=torch.float64)\n",
      "iteration: 36\n",
      "\n",
      "\tacquired COF 33347 with y =  tensor([208.4302], dtype=torch.float64)\n",
      "\tbest y acquired: tensor(208.4302, dtype=torch.float64)\n",
      "iteration: 37\n",
      "\n",
      "\tacquired COF 33370 with y =  tensor([196.7202], dtype=torch.float64)\n",
      "\tbest y acquired: tensor(208.4302, dtype=torch.float64)\n",
      "iteration: 38\n",
      "\n",
      "\tacquired COF 33349 with y =  tensor([206.7448], dtype=torch.float64)\n",
      "\tbest y acquired: tensor(208.4302, dtype=torch.float64)\n",
      "iteration: 39\n",
      "\n",
      "\tacquired COF 33344 with y =  tensor([199.9046], dtype=torch.float64)\n",
      "\tbest y acquired: tensor(208.4302, dtype=torch.float64)\n",
      "iteration: 40\n",
      "\n",
      "\tacquired COF 33374 with y =  tensor([185.7611], dtype=torch.float64)\n",
      "\tbest y acquired: tensor(208.4302, dtype=torch.float64)\n",
      "iteration: 41\n",
      "\n",
      "\tacquired COF 33319 with y =  tensor([188.8364], dtype=torch.float64)\n",
      "\tbest y acquired: tensor(208.4302, dtype=torch.float64)\n",
      "iteration: 42\n"
     ]
    }
   ],
   "source": [
    "nb_runs = 2\n",
    "nb_iterations = 50\n",
    "for r in range(nb_runs):\n",
    "    ids_acquired = bo_run(nb_iterations)\n",
    "    print(ids_acquired)\n",
    "    torch.save({'ids_acquired': ids_acquired}, 'bo_run' + str(r) + '.pkl')"
   ]
  }
 ],
 "metadata": {
  "kernelspec": {
   "display_name": "Python 3",
   "language": "python",
   "name": "python3"
  },
  "language_info": {
   "codemirror_mode": {
    "name": "ipython",
    "version": 3
   },
   "file_extension": ".py",
   "mimetype": "text/x-python",
   "name": "python",
   "nbconvert_exporter": "python",
   "pygments_lexer": "ipython3",
   "version": "3.6.9"
  }
 },
 "nbformat": 4,
 "nbformat_minor": 5
}
