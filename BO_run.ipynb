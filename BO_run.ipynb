{
 "cells": [
  {
   "cell_type": "markdown",
   "id": "received-startup",
   "metadata": {},
   "source": [
    "# BO runs"
   ]
  },
  {
   "cell_type": "code",
   "execution_count": 1,
   "id": "starting-bennett",
   "metadata": {},
   "outputs": [],
   "source": [
    "import torch\n",
    "from botorch.models import FixedNoiseGP, SingleTaskGP\n",
    "from gpytorch.kernels import ScaleKernel\n",
    "from gpytorch.mlls import ExactMarginalLogLikelihood\n",
    "from botorch import fit_gpytorch_model\n",
    "from botorch.acquisition.analytic import ExpectedImprovement\n",
    "import numpy as np\n",
    "import pickle\n",
    "import sys\n",
    "import time"
   ]
  },
  {
   "cell_type": "markdown",
   "id": "resident-innocent",
   "metadata": {},
   "source": [
    "load data from `prepare_Xy.ipynb`"
   ]
  },
  {
   "cell_type": "code",
   "execution_count": 2,
   "id": "settled-cheat",
   "metadata": {},
   "outputs": [
    {
     "data": {
      "text/plain": [
       "69839"
      ]
     },
     "execution_count": 2,
     "metadata": {},
     "output_type": "execute_result"
    }
   ],
   "source": [
    "X = pickle.load(open('inputs_and_outputs.pkl', 'rb'))['X']\n",
    "y = pickle.load(open('inputs_and_outputs.pkl', 'rb'))['y']\n",
    "y = np.reshape(y, (np.size(y), 1)) # for the GP\n",
    "nb_data = np.size(y)\n",
    "nb_data"
   ]
  },
  {
   "cell_type": "markdown",
   "id": "painted-profile",
   "metadata": {},
   "source": [
    "convert to torch tensors"
   ]
  },
  {
   "cell_type": "code",
   "execution_count": 3,
   "id": "comprehensive-robin",
   "metadata": {},
   "outputs": [],
   "source": [
    "X = torch.from_numpy(X)\n",
    "y = torch.from_numpy(y)"
   ]
  },
  {
   "cell_type": "code",
   "execution_count": 4,
   "id": "legal-cosmetic",
   "metadata": {},
   "outputs": [
    {
     "data": {
      "text/plain": [
       "torch.Size([69839, 12])"
      ]
     },
     "execution_count": 4,
     "metadata": {},
     "output_type": "execute_result"
    }
   ],
   "source": [
    "X.size()"
   ]
  },
  {
   "cell_type": "code",
   "execution_count": 5,
   "id": "roman-envelope",
   "metadata": {},
   "outputs": [
    {
     "data": {
      "text/plain": [
       "torch.Size([69839, 1])"
      ]
     },
     "execution_count": 5,
     "metadata": {},
     "output_type": "execute_result"
    }
   ],
   "source": [
    "y.size()"
   ]
  },
  {
   "cell_type": "markdown",
   "id": "checked-jerusalem",
   "metadata": {},
   "source": [
    "number of COFs for initialization"
   ]
  },
  {
   "cell_type": "code",
   "execution_count": 6,
   "id": "aquatic-korean",
   "metadata": {},
   "outputs": [],
   "source": [
    "nb_COFs_initialization = 10"
   ]
  },
  {
   "cell_type": "code",
   "execution_count": 7,
   "id": "controlled-renaissance",
   "metadata": {},
   "outputs": [],
   "source": [
    "def bo_run(nb_iterations):\n",
    "    assert nb_iterations > nb_COFs_initialization\n",
    "    # select initial COFs for training data randomly\n",
    "    ids_acquired = np.random.choice(np.arange((nb_data)), size=nb_COFs_initialization, replace=False)\n",
    "\n",
    "    # initialize acquired X, y\n",
    "    X_acquired = X[ids_acquired, :]\n",
    "    y_acquired = y[ids_acquired]\n",
    "    # standardize outputs\n",
    "    y_acquired = (y_acquired - torch.mean(y_acquired)) / torch.std(y_acquired)\n",
    "    \n",
    "    for i in range(nb_COFs_initialization, nb_iterations):\n",
    "        print(\"iteration:\", i)\n",
    "        # construct and fit GP model\n",
    "        model = SingleTaskGP(X_acquired, y_acquired)\n",
    "        mll = ExactMarginalLogLikelihood(model.likelihood, model)\n",
    "        fit_gpytorch_model(mll)\n",
    "\n",
    "        # compute aquisition function at each COF in the database\n",
    "        acquisition_function = ExpectedImprovement(model, best_f=y_acquired.max().item())\n",
    "        acquisition_values = acquisition_function.forward(X.unsqueeze(1))\n",
    "\n",
    "        # select COF to acquire with maximal aquisition value, which is not in the acquired set already\n",
    "        ids_sorted_by_aquisition = acquisition_values.argsort(descending=True)\n",
    "        for id_max_aquisition_all in ids_sorted_by_aquisition:\n",
    "            if not id_max_aquisition_all.item() in ids_acquired:\n",
    "                id_max_aquisition = id_max_aquisition_all.item()\n",
    "                break\n",
    "\n",
    "        # acquire this COF\n",
    "        ids_acquired = np.concatenate((ids_acquired, [id_max_aquisition]))\n",
    "\n",
    "        # update X, y acquired\n",
    "        X_acquired = torch.cat([X_acquired, X[id_max_aquisition, :].unsqueeze(0)])\n",
    "        y_acquired = y[ids_acquired, :] # start over to normalize y properly\n",
    "        y_acquired = (y_acquired - torch.mean(y_acquired)) / torch.std(y_acquired)\n",
    "\n",
    "        print(\"\\tacquired COF\", id_max_aquisition, \"with y = \", y[id_max_aquisition].item())\n",
    "        print(\"\\tbest y acquired:\", y[ids_acquired].max().item())\n",
    "    assert np.size(ids_acquired) == nb_iterations\n",
    "    return ids_acquired"
   ]
  },
  {
   "cell_type": "markdown",
   "id": "broadband-nothing",
   "metadata": {},
   "source": [
    "`ids_acquired[r, i]` will give ID of COF acquired during iteration `i` from run `r`."
   ]
  },
  {
   "cell_type": "code",
   "execution_count": 22,
   "id": "computational-portfolio",
   "metadata": {},
   "outputs": [
    {
     "name": "stdout",
     "output_type": "stream",
     "text": [
      "\n",
      "\n",
      "RUN 0\n",
      "iteration: 10\n",
      "\tacquired COF 16415 with y =  174.654915912\n",
      "\tbest y acquired: 179.569572506\n",
      "iteration: 11\n",
      "\tacquired COF 27798 with y =  166.69585219\n",
      "\tbest y acquired: 179.569572506\n",
      "iteration: 12\n",
      "\tacquired COF 27035 with y =  178.57489196900002\n",
      "\tbest y acquired: 179.569572506\n",
      "iteration: 13\n",
      "\tacquired COF 21314 with y =  194.053101714\n",
      "\tbest y acquired: 194.053101714\n",
      "iteration: 14\n",
      "\tacquired COF 66263 with y =  185.76857139\n",
      "\tbest y acquired: 194.053101714\n",
      "iteration: 15\n",
      "\tacquired COF 33370 with y =  196.720247142\n",
      "\tbest y acquired: 196.720247142\n",
      "iteration: 16\n",
      "\tacquired COF 25862 with y =  167.849327414\n",
      "\tbest y acquired: 196.720247142\n",
      "iteration: 17\n",
      "\tacquired COF 33366 with y =  204.811726149\n",
      "\tbest y acquired: 204.811726149\n",
      "iteration: 18\n",
      "\tacquired COF 33330 with y =  195.58268240799998\n",
      "\tbest y acquired: 204.811726149\n",
      "iteration: 19\n",
      "\tacquired COF 33355 with y =  122.363855499\n",
      "\tbest y acquired: 204.811726149\n",
      "iteration: 20\n",
      "\tacquired COF 33332 with y =  205.963467853\n",
      "\tbest y acquired: 205.963467853\n",
      "iteration: 21\n",
      "\tacquired COF 25951 with y =  196.579974938\n",
      "\tbest y acquired: 205.963467853\n",
      "iteration: 22\n",
      "\tacquired COF 12402 with y =  175.504448723\n",
      "\tbest y acquired: 205.963467853\n",
      "iteration: 23\n",
      "\tacquired COF 33343 with y =  196.58076384900002\n",
      "\tbest y acquired: 205.963467853\n",
      "iteration: 24\n",
      "\tacquired COF 33347 with y =  208.43022665700002\n",
      "\tbest y acquired: 208.43022665700002\n",
      "\n",
      "\n",
      "RUN 1\n",
      "iteration: 10\n",
      "\tacquired COF 68952 with y =  195.657779278\n",
      "\tbest y acquired: 195.657779278\n",
      "iteration: 11\n",
      "\tacquired COF 56517 with y =  194.530496788\n",
      "\tbest y acquired: 195.657779278\n",
      "iteration: 12\n",
      "\tacquired COF 12392 with y =  185.480447434\n",
      "\tbest y acquired: 195.657779278\n",
      "iteration: 13\n",
      "\tacquired COF 34761 with y =  177.06386607099998\n",
      "\tbest y acquired: 195.657779278\n",
      "iteration: 14\n",
      "\tacquired COF 19518 with y =  176.468362255\n",
      "\tbest y acquired: 195.657779278\n",
      "iteration: 15\n",
      "\tacquired COF 33330 with y =  195.58268240799998\n",
      "\tbest y acquired: 195.657779278\n",
      "iteration: 16\n",
      "\tacquired COF 33338 with y =  129.689513234\n",
      "\tbest y acquired: 195.657779278\n",
      "iteration: 17\n",
      "\tacquired COF 33332 with y =  205.963467853\n",
      "\tbest y acquired: 205.963467853\n",
      "iteration: 18\n",
      "\tacquired COF 33347 with y =  208.43022665700002\n",
      "\tbest y acquired: 208.43022665700002\n",
      "iteration: 19\n",
      "\tacquired COF 25951 with y =  196.579974938\n",
      "\tbest y acquired: 208.43022665700002\n",
      "iteration: 20\n",
      "\tacquired COF 33344 with y =  199.90463220799998\n",
      "\tbest y acquired: 208.43022665700002\n",
      "iteration: 21\n",
      "\tacquired COF 33349 with y =  206.74476888599997\n",
      "\tbest y acquired: 208.43022665700002\n",
      "iteration: 22\n",
      "\tacquired COF 29861 with y =  199.72030120099998\n",
      "\tbest y acquired: 208.43022665700002\n",
      "iteration: 23\n",
      "\tacquired COF 26565 with y =  207.39578187\n",
      "\tbest y acquired: 208.43022665700002\n",
      "iteration: 24\n",
      "\tacquired COF 16404 with y =  171.299812707\n",
      "\tbest y acquired: 208.43022665700002\n",
      "\n",
      "\n",
      "RUN 2\n",
      "iteration: 10\n",
      "\tacquired COF 15267 with y =  178.83787913\n",
      "\tbest y acquired: 178.83787913\n",
      "iteration: 11\n",
      "\tacquired COF 14751 with y =  181.18376571\n",
      "\tbest y acquired: 181.18376571\n",
      "iteration: 12\n",
      "\tacquired COF 12392 with y =  185.480447434\n",
      "\tbest y acquired: 185.480447434\n",
      "iteration: 13\n",
      "\tacquired COF 66860 with y =  182.910685964\n",
      "\tbest y acquired: 185.480447434\n",
      "iteration: 14\n",
      "\tacquired COF 66075 with y =  199.84356436299998\n",
      "\tbest y acquired: 199.84356436299998\n",
      "iteration: 15\n",
      "\tacquired COF 66117 with y =  202.21921792700002\n",
      "\tbest y acquired: 202.21921792700002\n",
      "iteration: 16\n",
      "\tacquired COF 33366 with y =  204.811726149\n",
      "\tbest y acquired: 204.811726149\n",
      "iteration: 17\n",
      "\tacquired COF 33338 with y =  129.689513234\n",
      "\tbest y acquired: 204.811726149\n",
      "iteration: 18\n",
      "\tacquired COF 66263 with y =  185.76857139\n",
      "\tbest y acquired: 204.811726149\n",
      "iteration: 19\n",
      "\tacquired COF 25951 with y =  196.579974938\n",
      "\tbest y acquired: 204.811726149\n",
      "iteration: 20\n",
      "\tacquired COF 33332 with y =  205.963467853\n",
      "\tbest y acquired: 205.963467853\n",
      "iteration: 21\n",
      "\tacquired COF 33330 with y =  195.58268240799998\n",
      "\tbest y acquired: 205.963467853\n",
      "iteration: 22\n",
      "\tacquired COF 33370 with y =  196.720247142\n",
      "\tbest y acquired: 205.963467853\n",
      "iteration: 23\n",
      "\tacquired COF 33347 with y =  208.43022665700002\n",
      "\tbest y acquired: 208.43022665700002\n",
      "iteration: 24\n",
      "\tacquired COF 33374 with y =  185.76111369\n",
      "\tbest y acquired: 208.43022665700002\n"
     ]
    }
   ],
   "source": [
    "bo_res = dict()\n",
    "bo_res['nb_runs']       = 3\n",
    "bo_res['nb_iterations'] = 25\n",
    "bo_res['ids_acquired'] = []\n",
    "ids_acquired = -np.ones((nb_runs, nb_iterations), dtype=int)\n",
    "for r in range(bo_res['nb_runs']):\n",
    "    print(\"\\n\\nRUN\", r)\n",
    "    ids_acquired = bo_run(bo_res['nb_iterations'])\n",
    "    bo_res['ids_acquired'].append(ids_acquired)\n",
    "\n",
    "with open('bo_results.pkl', 'wb') as file:\n",
    "    pickle.dump(bo_res, file)"
   ]
  },
  {
   "cell_type": "code",
   "execution_count": null,
   "id": "given-chosen",
   "metadata": {},
   "outputs": [],
   "source": []
  }
 ],
 "metadata": {
  "kernelspec": {
   "display_name": "Python 3",
   "language": "python",
   "name": "python3"
  },
  "language_info": {
   "codemirror_mode": {
    "name": "ipython",
    "version": 3
   },
   "file_extension": ".py",
   "mimetype": "text/x-python",
   "name": "python",
   "nbconvert_exporter": "python",
   "pygments_lexer": "ipython3",
   "version": "3.6.9"
  }
 },
 "nbformat": 4,
 "nbformat_minor": 5
}
