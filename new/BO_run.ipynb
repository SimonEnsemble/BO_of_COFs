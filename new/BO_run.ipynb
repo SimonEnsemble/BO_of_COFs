{
 "cells": [
  {
   "cell_type": "markdown",
   "id": "rocky-blackberry",
   "metadata": {},
   "source": [
    "# BO runs"
   ]
  },
  {
   "cell_type": "code",
   "execution_count": 1,
   "id": "grateful-trade",
   "metadata": {},
   "outputs": [],
   "source": [
    "import torch\n",
    "from botorch.models import FixedNoiseGP, SingleTaskGP\n",
    "from gpytorch.kernels import ScaleKernel\n",
    "from gpytorch.mlls import ExactMarginalLogLikelihood\n",
    "from botorch import fit_gpytorch_model\n",
    "from botorch.acquisition.analytic import ExpectedImprovement\n",
    "import numpy as np\n",
    "import pickle\n",
    "import sys\n",
    "import time"
   ]
  },
  {
   "cell_type": "markdown",
   "id": "white-optimization",
   "metadata": {},
   "source": [
    "load data from `prepare_Xy.ipynb`"
   ]
  },
  {
   "cell_type": "code",
   "execution_count": 2,
   "id": "characteristic-marker",
   "metadata": {},
   "outputs": [
    {
     "data": {
      "text/plain": [
       "69839"
      ]
     },
     "execution_count": 2,
     "metadata": {},
     "output_type": "execute_result"
    }
   ],
   "source": [
    "X = pickle.load(open('inputs_and_outputs.pkl', 'rb'))['X']\n",
    "y = pickle.load(open('inputs_and_outputs.pkl', 'rb'))['y']\n",
    "y = np.reshape(y, (np.size(y), 1)) # for the GP\n",
    "nb_data = np.size(y)\n",
    "nb_data"
   ]
  },
  {
   "cell_type": "markdown",
   "id": "worth-realtor",
   "metadata": {},
   "source": [
    "convert to torch tensors"
   ]
  },
  {
   "cell_type": "code",
   "execution_count": 3,
   "id": "official-provision",
   "metadata": {},
   "outputs": [],
   "source": [
    "X = torch.from_numpy(X)\n",
    "y = torch.from_numpy(y)"
   ]
  },
  {
   "cell_type": "code",
   "execution_count": 4,
   "id": "running-nudist",
   "metadata": {},
   "outputs": [
    {
     "data": {
      "text/plain": [
       "torch.Size([69839, 12])"
      ]
     },
     "execution_count": 4,
     "metadata": {},
     "output_type": "execute_result"
    }
   ],
   "source": [
    "X.size()"
   ]
  },
  {
   "cell_type": "code",
   "execution_count": 5,
   "id": "abstract-announcement",
   "metadata": {},
   "outputs": [
    {
     "data": {
      "text/plain": [
       "torch.Size([69839, 1])"
      ]
     },
     "execution_count": 5,
     "metadata": {},
     "output_type": "execute_result"
    }
   ],
   "source": [
    "y.size()"
   ]
  },
  {
   "cell_type": "code",
   "execution_count": 6,
   "id": "alive-theta",
   "metadata": {},
   "outputs": [],
   "source": [
    "X_unsqueezed = X.unsqueeze(1)"
   ]
  },
  {
   "cell_type": "code",
   "execution_count": 7,
   "id": "absolute-madrid",
   "metadata": {},
   "outputs": [
    {
     "data": {
      "text/plain": [
       "0"
      ]
     },
     "execution_count": 7,
     "metadata": {},
     "output_type": "execute_result"
    }
   ],
   "source": [
    "batch_size = 10000\n",
    "acquisition_values = np.zeros((nb_data))\n",
    "acquisition_values[:] = np.NaN\n",
    "nb_batches = nb_data // batch_size\n",
    "for ba in range(nb_batches+1):\n",
    "    id_start = ba * batch_size\n",
    "    id_end   = id_start + batch_size\n",
    "    if id_end > nb_data:\n",
    "        id_end = nb_data\n",
    "    acquisition_values[id_start:id_end] = range(id_start, id_end)\n",
    "    \n",
    "np.sum(np.isnan(acquisition_values))"
   ]
  },
  {
   "cell_type": "code",
   "execution_count": 8,
   "id": "hydraulic-salvation",
   "metadata": {},
   "outputs": [
    {
     "data": {
      "text/plain": [
       "69839"
      ]
     },
     "execution_count": 8,
     "metadata": {},
     "output_type": "execute_result"
    }
   ],
   "source": [
    "nb_data"
   ]
  },
  {
   "cell_type": "markdown",
   "id": "sticky-climb",
   "metadata": {},
   "source": [
    "number of COFs for initialization"
   ]
  },
  {
   "cell_type": "code",
   "execution_count": 9,
   "id": "piano-indicator",
   "metadata": {},
   "outputs": [],
   "source": [
    "nb_COFs_initialization = 10"
   ]
  },
  {
   "cell_type": "code",
   "execution_count": 10,
   "id": "legitimate-phone",
   "metadata": {},
   "outputs": [],
   "source": [
    "def bo_run(nb_iterations):\n",
    "    assert nb_iterations > nb_COFs_initialization\n",
    "    \n",
    "    # select initial COFs for training data randomly.\n",
    "    # idea is to keep populating this ids_acquired and return it for analysis.\n",
    "    ids_acquired = np.random.choice(np.arange((nb_data)), size=nb_COFs_initialization, replace=False)\n",
    "\n",
    "    # initialize acquired y, since it requires normalization\n",
    "    y_acquired = y[ids_acquired]\n",
    "    # standardize outputs\n",
    "    y_acquired = (y_acquired - torch.mean(y_acquired)) / torch.std(y_acquired)\n",
    "    \n",
    "    for i in range(nb_COFs_initialization, nb_iterations):\n",
    "        print(\"iteration:\", i)\n",
    "        # construct and fit GP model\n",
    "        model = SingleTaskGP(X[ids_acquired, :], y_acquired)\n",
    "        mll = ExactMarginalLogLikelihood(model.likelihood, model)\n",
    "        fit_gpytorch_model(mll)\n",
    "\n",
    "        # set up acquisition function\n",
    "        acquisition_function = ExpectedImprovement(model, best_f=y_acquired.max().item())\n",
    "        \n",
    "        # compute aquisition function at each COF in the database. need to do in batches to avoid mem issues\n",
    "        batch_size = 20000\n",
    "        acquisition_values = torch.zeros((nb_data))\n",
    "        acquisition_values[:] = np.NaN # for safety\n",
    "        nb_batches = nb_data // batch_size\n",
    "        for ba in range(nb_batches+1):\n",
    "            id_start = ba * batch_size\n",
    "            id_end   = id_start + batch_size\n",
    "            if id_end > nb_data:\n",
    "                id_end = nb_data\n",
    "            acquisition_values[id_start:id_end] = acquisition_function.forward(X_unsqueezed[id_start:id_end])\n",
    "#         acquisition_values = acquisition_function.forward(X_unsqueezed)\n",
    "        assert acquisition_values.isnan().sum().item() == 0 # so that all are filled properly.\n",
    "        del acquisition_function\n",
    "\n",
    "        # select COF to acquire with maximal aquisition value, which is not in the acquired set already\n",
    "        ids_sorted_by_aquisition = acquisition_values.argsort(descending=True)\n",
    "        for id_max_aquisition_all in ids_sorted_by_aquisition:\n",
    "            if not id_max_aquisition_all.item() in ids_acquired:\n",
    "                id_max_aquisition = id_max_aquisition_all.item()\n",
    "                break\n",
    "\n",
    "        # acquire this COF\n",
    "        ids_acquired = np.concatenate((ids_acquired, [id_max_aquisition]))\n",
    "        assert np.size(ids_acquired) == i + 1\n",
    "\n",
    "        # update y aquired; start over to normalize properly\n",
    "        del y_acquired\n",
    "        y_acquired = y[ids_acquired, :] # start over to normalize y properly\n",
    "        y_acquired = (y_acquired - torch.mean(y_acquired)) / torch.std(y_acquired)\n",
    "\n",
    "        print(\"\\tacquired COF\", id_max_aquisition, \"with y = \", y[id_max_aquisition].item())\n",
    "        print(\"\\tbest y acquired:\", y[ids_acquired].max().item())\n",
    "        \n",
    "        del model\n",
    "        del mll\n",
    "        del acquisition_values\n",
    "        \n",
    "    assert np.size(ids_acquired) == nb_iterations\n",
    "    return ids_acquired"
   ]
  },
  {
   "cell_type": "markdown",
   "id": "eight-class",
   "metadata": {},
   "source": [
    "`ids_acquired[r, i]` will give ID of COF acquired during iteration `i` from run `r`."
   ]
  },
  {
   "cell_type": "code",
   "execution_count": null,
   "id": "premium-acceptance",
   "metadata": {},
   "outputs": [
    {
     "name": "stdout",
     "output_type": "stream",
     "text": [
      "\n",
      "\n",
      "RUN 0\n",
      "iteration: 10\n",
      "\tacquired COF 56259 with y =  182.416471606\n",
      "\tbest y acquired: 182.416471606\n",
      "iteration: 11\n",
      "\tacquired COF 44551 with y =  188.642146113\n",
      "\tbest y acquired: 188.642146113\n",
      "iteration: 12\n",
      "\tacquired COF 59749 with y =  183.06633314099997\n",
      "\tbest y acquired: 188.642146113\n",
      "iteration: 13\n",
      "\tacquired COF 43434 with y =  166.762639788\n",
      "\tbest y acquired: 188.642146113\n",
      "iteration: 14\n",
      "\tacquired COF 57294 with y =  166.196918004\n",
      "\tbest y acquired: 188.642146113\n",
      "iteration: 15\n",
      "\tacquired COF 65585 with y =  173.44669686900002\n",
      "\tbest y acquired: 188.642146113\n",
      "iteration: 16\n",
      "\tacquired COF 441 with y =  186.034221186\n",
      "\tbest y acquired: 188.642146113\n",
      "iteration: 17\n",
      "\tacquired COF 20675 with y =  167.532168988\n",
      "\tbest y acquired: 188.642146113\n",
      "iteration: 18\n",
      "\tacquired COF 12418 with y =  176.910634695\n",
      "\tbest y acquired: 188.642146113\n",
      "iteration: 19\n",
      "\tacquired COF 13260 with y =  153.441277223\n",
      "\tbest y acquired: 188.642146113\n",
      "iteration: 20\n",
      "\tacquired COF 12402 with y =  175.504448723\n",
      "\tbest y acquired: 188.642146113\n",
      "iteration: 21\n",
      "\tacquired COF 66379 with y =  178.99445053\n",
      "\tbest y acquired: 188.642146113\n",
      "iteration: 22\n",
      "\tacquired COF 33381 with y =  82.0114448965\n",
      "\tbest y acquired: 188.642146113\n",
      "iteration: 23\n",
      "\tacquired COF 50163 with y =  167.486661746\n",
      "\tbest y acquired: 188.642146113\n",
      "iteration: 24\n",
      "\tacquired COF 440 with y =  183.14184687099998\n",
      "\tbest y acquired: 188.642146113\n",
      "iteration: 25\n",
      "\tacquired COF 3595 with y =  173.92050685200002\n",
      "\tbest y acquired: 188.642146113\n",
      "iteration: 26\n",
      "\tacquired COF 30136 with y =  178.774758072\n",
      "\tbest y acquired: 188.642146113\n",
      "iteration: 27\n",
      "\tacquired COF 25951 with y =  196.579974938\n",
      "\tbest y acquired: 196.579974938\n",
      "iteration: 28\n",
      "\tacquired COF 52297 with y =  157.061528528\n",
      "\tbest y acquired: 196.579974938\n",
      "iteration: 29\n",
      "\tacquired COF 21607 with y =  205.171240133\n",
      "\tbest y acquired: 205.171240133\n",
      "iteration: 30\n",
      "\tacquired COF 26565 with y =  207.39578187\n",
      "\tbest y acquired: 207.39578187\n",
      "iteration: 31\n",
      "\tacquired COF 32021 with y =  189.34518854799998\n",
      "\tbest y acquired: 207.39578187\n",
      "iteration: 32\n",
      "\tacquired COF 26507 with y =  200.44080272099998\n",
      "\tbest y acquired: 207.39578187\n",
      "iteration: 33\n",
      "\tacquired COF 37482 with y =  174.718514791\n",
      "\tbest y acquired: 207.39578187\n",
      "iteration: 34\n",
      "\tacquired COF 13582 with y =  183.60112018900003\n",
      "\tbest y acquired: 207.39578187\n",
      "iteration: 35\n",
      "\tacquired COF 29861 with y =  199.72030120099998\n",
      "\tbest y acquired: 207.39578187\n",
      "iteration: 36\n"
     ]
    }
   ],
   "source": [
    "bo_res = dict()\n",
    "bo_res['nb_runs']       = 1\n",
    "bo_res['nb_iterations'] = 200\n",
    "bo_res['ids_acquired'] = []\n",
    "for r in range(bo_res['nb_runs']):\n",
    "    print(\"\\n\\nRUN\", r)\n",
    "    t0 = time.time()\n",
    "    ids_acquired = bo_run(bo_res['nb_iterations'])\n",
    "    bo_res['ids_acquired'].append(ids_acquired)\n",
    "    print(\"took time t = \", (time.time() - t0) / 60, \"min\")"
   ]
  },
  {
   "cell_type": "code",
   "execution_count": 14,
   "id": "impressed-investigation",
   "metadata": {},
   "outputs": [],
   "source": [
    "with open('bo_results.pkl', 'wb') as file:\n",
    "    pickle.dump(bo_res, file)"
   ]
  },
  {
   "cell_type": "code",
   "execution_count": null,
   "id": "young-working",
   "metadata": {},
   "outputs": [],
   "source": []
  }
 ],
 "metadata": {
  "kernelspec": {
   "display_name": "Python 3",
   "language": "python",
   "name": "python3"
  },
  "language_info": {
   "codemirror_mode": {
    "name": "ipython",
    "version": 3
   },
   "file_extension": ".py",
   "mimetype": "text/x-python",
   "name": "python",
   "nbconvert_exporter": "python",
   "pygments_lexer": "ipython3",
   "version": "3.6.9"
  }
 },
 "nbformat": 4,
 "nbformat_minor": 5
}
