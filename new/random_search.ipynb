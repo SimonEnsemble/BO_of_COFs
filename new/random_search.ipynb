{
 "cells": [
  {
   "cell_type": "markdown",
   "id": "dated-collect",
   "metadata": {},
   "source": [
    "# random search"
   ]
  },
  {
   "cell_type": "code",
   "execution_count": 4,
   "id": "lesser-finnish",
   "metadata": {},
   "outputs": [],
   "source": [
    "import numpy as np\n",
    "import pickle\n",
    "import torch\n",
    "import time"
   ]
  },
  {
   "cell_type": "code",
   "execution_count": 5,
   "id": "registered-apparel",
   "metadata": {},
   "outputs": [
    {
     "name": "stdout",
     "output_type": "stream",
     "text": [
      "shape of X:  (69839, 12)\n"
     ]
    },
    {
     "data": {
      "text/plain": [
       "69839"
      ]
     },
     "execution_count": 5,
     "metadata": {},
     "output_type": "execute_result"
    }
   ],
   "source": [
    "X = pickle.load(open('inputs_and_outputs.pkl', 'rb'))['X']\n",
    "print(\"shape of X: \", np.shape(X))\n",
    "y = pickle.load(open('inputs_and_outputs.pkl', 'rb'))['y']\n",
    "nb_data = np.size(y)\n",
    "nb_data"
   ]
  },
  {
   "cell_type": "code",
   "execution_count": 6,
   "id": "extreme-trace",
   "metadata": {},
   "outputs": [],
   "source": [
    "rs_res = dict()\n",
    "rs_res['nb_runs']          = 10\n",
    "rs_res['nb_iterations']    = 500\n",
    "rs_res['ids_acquired']     = []\n",
    "for r in range(rs_res['nb_runs']):\n",
    "    ids_acquired = np.random.choice(range(nb_data), replace=False, size=rs_res['nb_iterations'])\n",
    "    rs_res['ids_acquired'].append(ids_acquired)\n",
    "with open('rs_results.pkl', 'wb') as file:\n",
    "    pickle.dump(rs_res, file)"
   ]
  }
 ],
 "metadata": {
  "kernelspec": {
   "display_name": "Python 3",
   "language": "python",
   "name": "python3"
  },
  "language_info": {
   "codemirror_mode": {
    "name": "ipython",
    "version": 3
   },
   "file_extension": ".py",
   "mimetype": "text/x-python",
   "name": "python",
   "nbconvert_exporter": "python",
   "pygments_lexer": "ipython3",
   "version": "3.6.9"
  }
 },
 "nbformat": 4,
 "nbformat_minor": 5
}
